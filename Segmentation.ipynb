{
 "cells": [
  {
   "cell_type": "code",
   "execution_count": 1,
   "id": "ce1d6ef4-970e-4229-9a48-35c2fb9a7870",
   "metadata": {},
   "outputs": [],
   "source": [
    "from unet import Unet"
   ]
  },
  {
   "cell_type": "code",
   "execution_count": null,
   "id": "91626311-71f7-4499-8d1d-90a8b3cc0cb8",
   "metadata": {},
   "outputs": [],
   "source": [
    "from argparse import Namespace"
   ]
  },
  {
   "cell_type": "code",
   "execution_count": 2,
   "id": "af6b3e51-b3b1-4287-93ff-181c230e89bc",
   "metadata": {},
   "outputs": [
    {
     "ename": "NameError",
     "evalue": "name 'Namespace' is not defined",
     "output_type": "error",
     "traceback": [
      "\u001b[0;31m---------------------------------------------------------------------------\u001b[0m",
      "\u001b[0;31mNameError\u001b[0m                                 Traceback (most recent call last)",
      "Cell \u001b[0;32mIn[2], line 1\u001b[0m\n\u001b[0;32m----> 1\u001b[0m model \u001b[38;5;241m=\u001b[39m Unet(args\u001b[38;5;241m=\u001b[39m\u001b[43mNamespace\u001b[49m(name \u001b[38;5;241m=\u001b[39m \u001b[38;5;124m'\u001b[39m\u001b[38;5;124munet\u001b[39m\u001b[38;5;124m'\u001b[39m, lr \u001b[38;5;241m=\u001b[39m \u001b[38;5;241m1e-3\u001b[39m))\n\u001b[1;32m      2\u001b[0m model\u001b[38;5;241m.\u001b[39mload()\n",
      "\u001b[0;31mNameError\u001b[0m: name 'Namespace' is not defined"
     ]
    }
   ],
   "source": [
    "model = Unet(args=Namespace(name = 'unet', lr = 1e-3))\n",
    "model.load()"
   ]
  },
  {
   "cell_type": "code",
   "execution_count": null,
   "id": "e9d924e6-eea2-43d8-92d0-7d0ea9725b0c",
   "metadata": {},
   "outputs": [],
   "source": [
    "model.print_summary()"
   ]
  },
  {
   "cell_type": "code",
   "execution_count": null,
   "id": "95e31bc3-e900-4946-91ca-e13f7783e958",
   "metadata": {},
   "outputs": [],
   "source": []
  }
 ],
 "metadata": {
  "kernelspec": {
   "display_name": "Python 3 (ipykernel)",
   "language": "python",
   "name": "python3"
  },
  "language_info": {
   "codemirror_mode": {
    "name": "ipython",
    "version": 3
   },
   "file_extension": ".py",
   "mimetype": "text/x-python",
   "name": "python",
   "nbconvert_exporter": "python",
   "pygments_lexer": "ipython3",
   "version": "3.9.6"
  }
 },
 "nbformat": 4,
 "nbformat_minor": 5
}
